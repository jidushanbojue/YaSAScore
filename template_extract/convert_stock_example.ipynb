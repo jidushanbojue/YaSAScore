{
 "cells": [
  {
   "cell_type": "markdown",
   "metadata": {},
   "source": [
    "# SDF to hdf"
   ]
  },
  {
   "cell_type": "code",
   "execution_count": 1,
   "metadata": {},
   "outputs": [],
   "source": [
    "import zipfile\n",
    "import tempfile\n",
    "import glob\n",
    "\n",
    "from rdkit import Chem\n",
    "from rdkit.Chem import PandasTools as pdt\n",
    "from rdkit.Chem import AllChem\n"
   ]
  },
  {
   "cell_type": "code",
   "execution_count": 2,
   "metadata": {},
   "outputs": [],
   "source": [
    "import pandas as pd"
   ]
  },
  {
   "cell_type": "code",
   "execution_count": 17,
   "metadata": {},
   "outputs": [],
   "source": [
    "filename = # File containing a list of smiles as .csv"
   ]
  },
  {
   "cell_type": "code",
   "execution_count": 3,
   "metadata": {},
   "outputs": [
    {
     "data": {
      "text/html": [
       "<div>\n",
       "<style scoped>\n",
       "    .dataframe tbody tr th:only-of-type {\n",
       "        vertical-align: middle;\n",
       "    }\n",
       "\n",
       "    .dataframe tbody tr th {\n",
       "        vertical-align: top;\n",
       "    }\n",
       "\n",
       "    .dataframe thead th {\n",
       "        text-align: right;\n",
       "    }\n",
       "</style>\n",
       "<table border=\"1\" class=\"dataframe\">\n",
       "  <thead>\n",
       "    <tr style=\"text-align: right;\">\n",
       "      <th></th>\n",
       "      <th>smiles</th>\n",
       "      <th>SA number</th>\n",
       "    </tr>\n",
       "  </thead>\n",
       "  <tbody>\n",
       "    <tr>\n",
       "      <th>0</th>\n",
       "      <td>c1c([nH]cn1)CCN</td>\n",
       "      <td>27927274,28711615,28760770,28762303,28811120,28821430,394398208,477391935,61877819,92612325</td>\n",
       "    </tr>\n",
       "    <tr>\n",
       "      <th>1</th>\n",
       "      <td>c1ccc(cc1)/C=C/C(=O)Nc2ccc3c(c2)c(=O)cc(o3)c4ccccc4</td>\n",
       "      <td>100863698</td>\n",
       "    </tr>\n",
       "    <tr>\n",
       "      <th>2</th>\n",
       "      <td>CC(C(=O)Nc1ccc(cc1)NC(=O)C)Sc2nnnn2c3ccccc3</td>\n",
       "      <td>29949812</td>\n",
       "    </tr>\n",
       "    <tr>\n",
       "      <th>3</th>\n",
       "      <td>c1ccc(cc1)S(=O)(=O)N2CCCc3c2ccc(c3)C(=O)NC4CCCCCCC4</td>\n",
       "      <td>111189952</td>\n",
       "    </tr>\n",
       "    <tr>\n",
       "      <th>4</th>\n",
       "      <td>Cc1cc(=O)[nH]c(n1)N2CCC(CC2)NC(=O)CCc3[nH]c4ccccc4n3</td>\n",
       "      <td>458947156</td>\n",
       "    </tr>\n",
       "  </tbody>\n",
       "</table>\n",
       "</div>"
      ],
      "text/plain": [
       "                                                 smiles                                                                                    SA number\n",
       "0                                       c1c([nH]cn1)CCN  27927274,28711615,28760770,28762303,28811120,28821430,394398208,477391935,61877819,92612325\n",
       "1   c1ccc(cc1)/C=C/C(=O)Nc2ccc3c(c2)c(=O)cc(o3)c4ccccc4                                                                                    100863698\n",
       "2           CC(C(=O)Nc1ccc(cc1)NC(=O)C)Sc2nnnn2c3ccccc3                                                                                     29949812\n",
       "3   c1ccc(cc1)S(=O)(=O)N2CCCc3c2ccc(c3)C(=O)NC4CCCCCCC4                                                                                    111189952\n",
       "4  Cc1cc(=O)[nH]c(n1)N2CCC(CC2)NC(=O)CCc3[nH]c4ccccc4n3                                                                                    458947156"
      ]
     },
     "execution_count": 3,
     "metadata": {},
     "output_type": "execute_result"
    }
   ],
   "source": [
    "\n",
    "data = pd.read_csv(filename, sep=' ',\n",
    "                   names=['smiles','SA number'])\n",
    "data.head()"
   ]
  },
  {
   "cell_type": "code",
   "execution_count": 4,
   "metadata": {},
   "outputs": [
    {
     "data": {
      "text/plain": [
       "8264787"
      ]
     },
     "execution_count": 4,
     "metadata": {},
     "output_type": "execute_result"
    }
   ],
   "source": [
    "len(data)"
   ]
  },
  {
   "cell_type": "code",
   "execution_count": 5,
   "metadata": {},
   "outputs": [],
   "source": [
    "def smi2mol(smiles):\n",
    "    try:\n",
    "        return Chem.MolFromSmiles(smiles)\n",
    "    except:\n",
    "        return pd.np.nan\n",
    "    \n",
    "def smi2inchi(smiles):\n",
    "    mol = Chem.MolFromSmiles(smiles)\n",
    "    if mol:\n",
    "        return Chem.MolToInchiKey(mol)\n",
    "    else:\n",
    "        return pd.np.nan \n",
    "    \n",
    "romol = data.smiles.apply(smi2inchi)"
   ]
  },
  {
   "cell_type": "code",
   "execution_count": 6,
   "metadata": {},
   "outputs": [],
   "source": [
    "data[\"inchi_key\"] = romol\n",
    "del romol"
   ]
  },
  {
   "cell_type": "code",
   "execution_count": 7,
   "metadata": {},
   "outputs": [],
   "source": [
    "#Remove failed smiles conversions\n",
    "mask = pd.isna(data.inchi_key)\n",
    "failed = data[mask]\n",
    "data = data[~mask]"
   ]
  },
  {
   "cell_type": "code",
   "execution_count": 11,
   "metadata": {},
   "outputs": [
    {
     "name": "stdout",
     "output_type": "stream",
     "text": [
      "431\n"
     ]
    },
    {
     "data": {
      "text/html": [
       "<div>\n",
       "<style scoped>\n",
       "    .dataframe tbody tr th:only-of-type {\n",
       "        vertical-align: middle;\n",
       "    }\n",
       "\n",
       "    .dataframe tbody tr th {\n",
       "        vertical-align: top;\n",
       "    }\n",
       "\n",
       "    .dataframe thead th {\n",
       "        text-align: right;\n",
       "    }\n",
       "</style>\n",
       "<table border=\"1\" class=\"dataframe\">\n",
       "  <thead>\n",
       "    <tr style=\"text-align: right;\">\n",
       "      <th></th>\n",
       "      <th>smiles</th>\n",
       "      <th>SA number</th>\n",
       "      <th>inchi_key</th>\n",
       "    </tr>\n",
       "  </thead>\n",
       "  <tbody>\n",
       "    <tr>\n",
       "      <th>61808</th>\n",
       "      <td>c1ccc(cc1)[P+](c2ccccc2)(c3ccccc3)C4C5C(C=C(C4=O)c6cccc(c6)F)[N](=O)c7ccccc7[N]5=O</td>\n",
       "      <td>128036082</td>\n",
       "      <td>NaN</td>\n",
       "    </tr>\n",
       "    <tr>\n",
       "      <th>62163</th>\n",
       "      <td>CCc1cc2c(cc1OCC(=O)N[C@@H](C(C)C)C(=O)O)occ(c2=O)C3=[N](C=NN3)c4ccccc4</td>\n",
       "      <td>150455978</td>\n",
       "      <td>NaN</td>\n",
       "    </tr>\n",
       "    <tr>\n",
       "      <th>62228</th>\n",
       "      <td>c1ccc(cc1)CC[N]2=CNc3c(c4c(n3/N=C/c5ccc(cc5)F)nc6ccccc6n4)C2=O</td>\n",
       "      <td>234133637</td>\n",
       "      <td>NaN</td>\n",
       "    </tr>\n",
       "    <tr>\n",
       "      <th>63992</th>\n",
       "      <td>COCC[N]1=CNc2c(c3c(n2/N=C/c4ccc(cc4)F)nc5ccccc5n3)C1=O</td>\n",
       "      <td>234133623</td>\n",
       "      <td>NaN</td>\n",
       "    </tr>\n",
       "    <tr>\n",
       "      <th>65322</th>\n",
       "      <td>CC1=CC(=C)NC2=[N]1NC(=CN3C(=O)c4ccccc4C3=O)N2</td>\n",
       "      <td>410509234</td>\n",
       "      <td>NaN</td>\n",
       "    </tr>\n",
       "  </tbody>\n",
       "</table>\n",
       "</div>"
      ],
      "text/plain": [
       "                                                                                   smiles  SA number inchi_key\n",
       "61808  c1ccc(cc1)[P+](c2ccccc2)(c3ccccc3)C4C5C(C=C(C4=O)c6cccc(c6)F)[N](=O)c7ccccc7[N]5=O  128036082       NaN\n",
       "62163              CCc1cc2c(cc1OCC(=O)N[C@@H](C(C)C)C(=O)O)occ(c2=O)C3=[N](C=NN3)c4ccccc4  150455978       NaN\n",
       "62228                      c1ccc(cc1)CC[N]2=CNc3c(c4c(n3/N=C/c5ccc(cc5)F)nc6ccccc6n4)C2=O  234133637       NaN\n",
       "63992                              COCC[N]1=CNc2c(c3c(n2/N=C/c4ccc(cc4)F)nc5ccccc5n3)C1=O  234133623       NaN\n",
       "65322                                       CC1=CC(=C)NC2=[N]1NC(=CN3C(=O)c4ccccc4C3=O)N2  410509234       NaN"
      ]
     },
     "execution_count": 11,
     "metadata": {},
     "output_type": "execute_result"
    }
   ],
   "source": [
    "print(len(failed))\n",
    "failed.head() "
   ]
  },
  {
   "cell_type": "code",
   "execution_count": 10,
   "metadata": {},
   "outputs": [
    {
     "data": {
      "text/html": [
       "<div>\n",
       "<style scoped>\n",
       "    .dataframe tbody tr th:only-of-type {\n",
       "        vertical-align: middle;\n",
       "    }\n",
       "\n",
       "    .dataframe tbody tr th {\n",
       "        vertical-align: top;\n",
       "    }\n",
       "\n",
       "    .dataframe thead th {\n",
       "        text-align: right;\n",
       "    }\n",
       "</style>\n",
       "<table border=\"1\" class=\"dataframe\">\n",
       "  <thead>\n",
       "    <tr style=\"text-align: right;\">\n",
       "      <th></th>\n",
       "      <th>smiles</th>\n",
       "      <th>SA number</th>\n",
       "      <th>inchi_key</th>\n",
       "    </tr>\n",
       "  </thead>\n",
       "  <tbody>\n",
       "    <tr>\n",
       "      <th>0</th>\n",
       "      <td>c1c([nH]cn1)CCN</td>\n",
       "      <td>27927274,28711615,28760770,28762303,28811120,28821430,394398208,477391935,61877819,92612325</td>\n",
       "      <td>NTYJJOPFIAHURM-UHFFFAOYSA-N</td>\n",
       "    </tr>\n",
       "    <tr>\n",
       "      <th>1</th>\n",
       "      <td>c1ccc(cc1)/C=C/C(=O)Nc2ccc3c(c2)c(=O)cc(o3)c4ccccc4</td>\n",
       "      <td>100863698</td>\n",
       "      <td>OPLJSNOMUAQEHB-SDNWHVSQSA-N</td>\n",
       "    </tr>\n",
       "    <tr>\n",
       "      <th>2</th>\n",
       "      <td>CC(C(=O)Nc1ccc(cc1)NC(=O)C)Sc2nnnn2c3ccccc3</td>\n",
       "      <td>29949812</td>\n",
       "      <td>VRSROEQQOQWWRP-UHFFFAOYSA-N</td>\n",
       "    </tr>\n",
       "    <tr>\n",
       "      <th>3</th>\n",
       "      <td>c1ccc(cc1)S(=O)(=O)N2CCCc3c2ccc(c3)C(=O)NC4CCCCCCC4</td>\n",
       "      <td>111189952</td>\n",
       "      <td>HWHPXVZTRRVKDG-UHFFFAOYSA-N</td>\n",
       "    </tr>\n",
       "    <tr>\n",
       "      <th>4</th>\n",
       "      <td>Cc1cc(=O)[nH]c(n1)N2CCC(CC2)NC(=O)CCc3[nH]c4ccccc4n3</td>\n",
       "      <td>458947156</td>\n",
       "      <td>KUBBSKDNILBLHX-UHFFFAOYSA-N</td>\n",
       "    </tr>\n",
       "  </tbody>\n",
       "</table>\n",
       "</div>"
      ],
      "text/plain": [
       "                                                 smiles                                                                                    SA number                    inchi_key\n",
       "0                                       c1c([nH]cn1)CCN  27927274,28711615,28760770,28762303,28811120,28821430,394398208,477391935,61877819,92612325  NTYJJOPFIAHURM-UHFFFAOYSA-N\n",
       "1   c1ccc(cc1)/C=C/C(=O)Nc2ccc3c(c2)c(=O)cc(o3)c4ccccc4                                                                                    100863698  OPLJSNOMUAQEHB-SDNWHVSQSA-N\n",
       "2           CC(C(=O)Nc1ccc(cc1)NC(=O)C)Sc2nnnn2c3ccccc3                                                                                     29949812  VRSROEQQOQWWRP-UHFFFAOYSA-N\n",
       "3   c1ccc(cc1)S(=O)(=O)N2CCCc3c2ccc(c3)C(=O)NC4CCCCCCC4                                                                                    111189952  HWHPXVZTRRVKDG-UHFFFAOYSA-N\n",
       "4  Cc1cc(=O)[nH]c(n1)N2CCC(CC2)NC(=O)CCc3[nH]c4ccccc4n3                                                                                    458947156  KUBBSKDNILBLHX-UHFFFAOYSA-N"
      ]
     },
     "execution_count": 10,
     "metadata": {},
     "output_type": "execute_result"
    }
   ],
   "source": [
    "data.head()"
   ]
  },
  {
   "cell_type": "markdown",
   "metadata": {},
   "source": [
    "## Clear duplicates and use inchi_key as index."
   ]
  },
  {
   "cell_type": "code",
   "execution_count": 9,
   "metadata": {},
   "outputs": [
    {
     "data": {
      "text/plain": [
       "8526"
      ]
     },
     "execution_count": 9,
     "metadata": {},
     "output_type": "execute_result"
    }
   ],
   "source": [
    "sum(data.inchi_key.value_counts() > 1)"
   ]
  },
  {
   "cell_type": "code",
   "execution_count": 13,
   "metadata": {},
   "outputs": [
    {
     "name": "stdout",
     "output_type": "stream",
     "text": [
      "0.18393349647521973\n"
     ]
    }
   ],
   "source": [
    "import time\n",
    "time0 = time.time()\n",
    "\"DGEKNIYQAIAEGO-VKKIDBQXSA-N\" in data.inchi_key.values\n",
    "print(time.time()-time0)"
   ]
  },
  {
   "cell_type": "code",
   "execution_count": 14,
   "metadata": {},
   "outputs": [
    {
     "name": "stdout",
     "output_type": "stream",
     "text": [
      "6.985664367675781e-05\n"
     ]
    }
   ],
   "source": [
    "s = set(data.inchi_key.values)\n",
    "time0 = time.time()\n",
    "\"DGEKNIYQAIAEGO-VKKIDBQXSA-N\" in s\n",
    "print(time.time()-time0)"
   ]
  },
  {
   "cell_type": "code",
   "execution_count": 15,
   "metadata": {},
   "outputs": [
    {
     "data": {
      "text/plain": [
       "8254810"
      ]
     },
     "execution_count": 15,
     "metadata": {},
     "output_type": "execute_result"
    }
   ],
   "source": [
    "len(s)"
   ]
  },
  {
   "cell_type": "code",
   "execution_count": 18,
   "metadata": {},
   "outputs": [],
   "source": [
    "data.to_hdf('%s.h5'%filename, 'table', complevel=9)"
   ]
  },
  {
   "cell_type": "code",
   "execution_count": 19,
   "metadata": {},
   "outputs": [
    {
     "name": "stdout",
     "output_type": "stream",
     "text": [
      "total 1134464\n",
      "-rw-r----- 1 kfjb203 xem-scp-cc 448551863 Feb  7 15:58 sigma_aldrich_export_prod_20181201.smi\n",
      "-rw-rw---- 1 kfxl284 xem-scp-cc 730898620 Feb  8 10:41 sigma_aldrich_export_prod_20181201.smi.h5\n"
     ]
    }
   ],
   "source": [
    "# Check folder containing output file\n",
    "!ls -ltr # Path to folder"
   ]
  },
  {
   "cell_type": "code",
   "execution_count": null,
   "metadata": {},
   "outputs": [],
   "source": []
  }
 ],
 "metadata": {
  "kernelspec": {
   "display_name": "synthesisplanning (conda, py3)",
   "language": "python",
   "name": "synthesisplanning"
  },
  "language_info": {
   "codemirror_mode": {
    "name": "ipython",
    "version": 3
   },
   "file_extension": ".py",
   "mimetype": "text/x-python",
   "name": "python",
   "nbconvert_exporter": "python",
   "pygments_lexer": "ipython3",
   "version": "3.6.7"
  }
 },
 "nbformat": 4,
 "nbformat_minor": 2
}