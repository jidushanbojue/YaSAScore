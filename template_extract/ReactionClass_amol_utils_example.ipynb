{
 "cells": [
  {
   "cell_type": "code",
   "execution_count": 1,
   "metadata": {},
   "outputs": [],
   "source": [
    "import itertools\n",
    "import hashlib\n",
    "import pandas as pd\n",
    "import numpy as np\n",
    "import json\n",
    "\n",
    "from rdkit import Chem\n",
    "from rdkit.Chem import AllChem, rdChemReactions, rdmolfiles, rdmolops\n",
    "\n",
    "from rdkit.Chem.Draw import IPythonConsole #Needed to show molecules\n",
    "from rdkit.Chem.Draw.MolDrawing import MolDrawing, DrawingOptions #Only needed if modifying defaults\n",
    "\n",
    "import template_utils.coley_utils_rdchiral as cc\n",
    "import rdchiral as rdc\n",
    "\n",
    "def remove_atommaps(mols):\n",
    "    products = []\n",
    "    for product in mols.split('.'):\n",
    "        m = Chem.MolFromSmiles(product)\n",
    "        for atom in m.GetAtoms():\n",
    "            atom.SetAtomMapNum(0)\n",
    "        products.append(Chem.MolToSmiles(m))\n",
    "    return '.'.join(products)\n",
    "\n",
    "class Reaction:\n",
    "\t\"\"\"Class for reaction pre-processing and automatic template extraction.\n",
    "\t\n",
    "\tCapabilities\n",
    "\t- Agent removal from reaction smiles\n",
    "\t- Splitting reaction smiles into: reactants, agents, products\n",
    "\t- Converting reactant, agents, products into RDKit mols\n",
    "\t- Checking sanitization of reaction smiles\n",
    "\t- Checking completness of reaction smiles \n",
    "\t- Checking for the equivelence of reactants and products\n",
    "\t- Checking if the product is in the reactants\n",
    "\t- Generation of a RInChI like string\n",
    "\t- Generation of a hashed reaction\n",
    "\t- Check for partial mapping\n",
    "\t- Generation of reaction templates with differing radii\n",
    "\t- Substructure search a reaction for a given template\n",
    "\t- Validate the retro-template\n",
    "\t- Check whether a given template leads to an outcome\n",
    "\t- Asses the retro-template in terms of selectivity \n",
    "\t- Create a hash from a template\n",
    "\n",
    "\tParameters:\n",
    "\t\trsmi (str): Atom-mapped Reaction SMILES in the form\n",
    "\t\t\treactants>agents>products\n",
    "\t\t\treactants.agents>>products\n",
    "\t\t\tIf the Reaction SMILES are not Atom-mapped templates will not be extracted\n",
    "\n",
    "\tNotes:\n",
    "\t\t- Template validation/checking should only be called after the template has been generated\n",
    "\t\t- Validation works for the retro direction but not forward\n",
    "\t\"\"\"\n",
    "\tdef __init__(self, rsmi, rid=None):\n",
    "\t\t\"\"\"Accquires necessary information upon initalisation.\n",
    "\n",
    "\t\tParameters:\n",
    "\t\t\trsmi (str): Atom-mapped Reaction SMILES in the form\n",
    "\t\t\t\treactants>agents>products\n",
    "\t\t\t\treactants.agents>>products\n",
    "\t\t\t\tIf the Reaction SMILES are NOT Atom-mapped templates will not be extracted\n",
    "            rid (str): Optional, reaction identifier\n",
    "\t\t\"\"\"\n",
    "\t\tself.rsmi = rsmi\n",
    "\t\tself.rid = rid\n",
    "\t\tself.rsmi, self.clean_rsmi = self.clean_reaction()\n",
    "\t\t\n",
    "\t\tself.get_reactant_list()\n",
    "\t\tself.get_agent_list()\n",
    "\t\tself.get_product_list()\n",
    "\t\tself.get_reactant_mol_list()\n",
    "\t\tself.get_product_mol_list()\n",
    "\t\t\n",
    "\n",
    "\tdef clean_reaction(self):\n",
    "\t\t\"\"\"This function takes reaction smiles of the form:\n",
    "\t\ta.b.c>d.e.f>g.h\n",
    "\t\tand changes them to the form:\n",
    "\t\ta.b.c.d.e.f>>g.h\n",
    "\t\t\n",
    "\t\tUnmapped reactants are moved to the agents to create the form:\n",
    "\t\tmapped_reactants>unmapped_reactants>product\n",
    "\n",
    "\t\tReturns:\n",
    "\t\t\trsmi (str): Reaction SMILES in the form a.b.c.d.e.f>>g.h\n",
    "\t\t\tclean_rsmi (str): Reaction SMILES in the form mapped_reactants>unmapped_reactants>product\n",
    "\t\t\"\"\"\n",
    "\t\t#Split into Reactants and Products\n",
    "\t\tsplit_reaction = self.rsmi.split(\">\")\n",
    "\t\t#Get reactant and product smiles string with . separators \n",
    "\t\treactants = split_reaction[0]\n",
    "\t\tself.agents = split_reaction[1]\n",
    "\t\tself.products = split_reaction[2]\n",
    "\t\tif len(self.agents) == 0:\n",
    "\t\t\tself.reactants = reactants\n",
    "\t\telse:\n",
    "\t\t\tself.reactants = '.'.join([reactants, self.agents])\n",
    "\t\tself.rsmi = '>>'.join([self.reactants, self.products])\n",
    "\t\treaction = rdChemReactions.ReactionFromSmarts(self.rsmi)\n",
    "\t\treaction.RemoveUnmappedReactantTemplates()\n",
    "\t\tself.clean_rsmi = rdChemReactions.ReactionToSmiles(reaction)\n",
    "\t\treturn self.rsmi, self.clean_rsmi\n",
    "\t\n",
    "\tdef get_reactant_list(self):\n",
    "\t\t\"\"\"\n",
    "\t\tReturns: \n",
    "\t\t\treactant_list (list): a list of Reactant SMILES\n",
    "\t\t\"\"\"\n",
    "\t\tself.reactant_list = self.reactants.split('.')\n",
    "\t\treturn self.reactant_list\n",
    "\t\n",
    "\tdef get_agent_list(self):\n",
    "\t\t\"\"\"\n",
    "\t\tReturns: \n",
    "\t\t\tagent_list (list): a list of Agent SMILES\n",
    "\t\t\"\"\"\n",
    "\t\tself.agent_list = self.agents.split('.')\n",
    "\t\treturn self.agent_list\n",
    "\t\n",
    "\tdef get_product_list(self):\n",
    "\t\t\"\"\"\n",
    "\t\tReturns: \n",
    "\t\t\tproduct_list (list): a list of Product SMILES\n",
    "\t\t\"\"\"\n",
    "\t\tself.product_list = self.products.split('.')\n",
    "\t\treturn self.product_list\n",
    "\t\n",
    "\tdef get_reactant_mol_list(self):\n",
    "\t\t\"\"\" Given a list of smiles strings, creates a list of RDKit molecules.\n",
    "\t\tReturns: \n",
    "\t\t\treactant_mol_list (list): a list of Reactant RDKit Mol objects\n",
    "\t\t\"\"\"\n",
    "\t\tself.reactant_mol_list = cc.mols_from_smiles_list(cc.replace_deuterated(self.reactants).split('.'))\n",
    "\t\treturn self.reactant_mol_list\n",
    "\t\n",
    "\tdef get_product_mol_list(self):\n",
    "\t\t\"\"\" Given a list of smiles strings, creates a list of RDKit molecules.\n",
    "\t\tReturns: \n",
    "\t\t\tproduct_mol_list (list): a list of Product RDKit Mol objects\n",
    "\t\t\"\"\"\n",
    "\t\tself.product_mol_list = cc.mols_from_smiles_list(cc.replace_deuterated(self.products).split('.'))\n",
    "\t\treturn self.product_mol_list\n",
    "\n",
    "\tdef sanitization_check(self):\n",
    "\t\t\"\"\"Checks whether the Reactant and Product Mol Objects can be sanitized in RDKit.\n",
    "\t\tReturns: \n",
    "\t\t\tTrue (bool): If sanitization is successful\n",
    "\t\t\tNone: If cannot be sanitized\n",
    "\t\t\"\"\"\n",
    "\t\t#If molecules can't be sanitized by RDKit neglect the reaction\n",
    "\t\ttry:\n",
    "\t\t\tfor i in range(len(reactants)):\n",
    "\t\t\t\treactants[i] = AllChem.RemoveHs(reactants[i]) # *might* not be safe\n",
    "\t\t\tfor i in range(len(products)):\n",
    "\t\t\t\tproducts[i] = AllChem.RemoveHs(products[i]) # *might* not be safe\n",
    "\t\t\t[Chem.SanitizeMol(mol) for mol in reactants + products] # redundant w/ RemoveHs\n",
    "\t\t\t[mol.UpdatePropertyCache() for mol in reactants + products]\n",
    "\t\t\treturn True\n",
    "\t\texcept Exception as e:\n",
    "\t\t\t# can't sanitize -> skip\n",
    "\t\t\tprint('Could not load SMILES or sanitize')\n",
    "\t\t\treturn None\n",
    "\t\n",
    "\tdef incomplete_reaction(self):\n",
    "\t\t\"\"\"Checks a given reaction smiles for completeness i.e. no products or no reactants.\n",
    "\t\tReturns:\n",
    "\t\t\tTrue (bool): If the reaction has no reactants or products\n",
    "\t\t\tFalse (bool): If the reaction has reactants or products\n",
    "\t\t\"\"\"\n",
    "\t\tif len(self.reactant_list) == 0 or len(self.product_list) == 0:\n",
    "\t\t\treturn True\n",
    "\t\telse:\n",
    "\t\t\treturn False\n",
    "\t\t\n",
    "\tdef equivalent_reactant_product_set(self):\n",
    "\t\t\"\"\"Checks whether the set of reactants and products are equivalent. i.e. There is no\n",
    "\t\tchange in between the reactants and products - No reaction has occured/Purification\n",
    "\t\t\n",
    "\t\tAccounts for variations in ordering of the individual components by checking all \n",
    "\t\tpermutations.\n",
    "\n",
    "\t\tCompares InChIs to rule out possible variations in SMILES notation.\n",
    "\n",
    "\t\tReturns:\n",
    "\t\t\tTrue (bool): If the reactants and products are equivalent\n",
    "\t\t\tFalse (bool): If the reactants and products are NOT equivalent\n",
    "\t\t\"\"\"\n",
    "\t\treactant_subsets = itertools.permutations(self.reactant_list,len(self.product_list))\n",
    "\t\treactant_subsets = ['.'.join(x) for x in reactant_subsets]\n",
    "\t\tmatch = False\n",
    "\t\tfor reactant in reactant_subsets:\n",
    "\t\t\tif Chem.MolToInchi(Chem.MolFromSmiles(reactant)) == Chem.MolToInchi(Chem.MolFromSmiles(self.products)):\n",
    "\t\t\t\tmatch = True\n",
    "\t\t\t\tbreak\n",
    "\t\t\telse: \n",
    "\t\t\t\tcontinue\n",
    "\t\treturn match\n",
    "\t\n",
    "\tdef product_in_reactant_set(self):\n",
    "\t\t\"\"\"Checks to see if the product appears in the reactant set.\n",
    "\n",
    "\t\tCompares InChIs to rule out possible variations in SMILES notation.\n",
    "\n",
    "\t\tReturns:\n",
    "\t\t\tTrue (bool): If the product is present in the reactants set.\n",
    "\t\t\tFalse (bool): If the product is NOT present in the reactants set.\n",
    "\t\t\"\"\"\n",
    "\t\treactant_inchi = [Chem.MolToInchi(Chem.MolFromSmiles(reactant)) for reactant in self.reactant_list]\n",
    "\t\tproduct_inchi = [Chem.MolToInchi(Chem.MolFromSmiles(product)) for product in self.product_list]\n",
    "\t\tif len(list(set(reactant_inchi) & set(product_inchi))) != 0:\n",
    "\t\t\tprint(\"Product appears in the set of reactants - No reaction\")\n",
    "\t\t\treturn True\n",
    "\t\telse: \n",
    "\t\t\treturn False\n",
    "\t\n",
    "\tdef generate_pseudoRInChI(self):\n",
    "\t\t\"\"\"Generates a Reaction InChI like string from the given smiles.\n",
    "\t\t\n",
    "\t\tConcatenates Reactant and Product InChI strings, and replaces elements to make the string more 'InChI like'\n",
    "\n",
    "\t\tReturns:\n",
    "\t\t\tpseudo_rinchi (str): RInChI like string (It cannot be parsed as an RInChI)\n",
    "\t\t\n",
    "\t\tNotes:\n",
    "\t\t\tCurrently Unused\n",
    "\t\t\"\"\"\n",
    "\t\treactant_inchi = Chem.MolToInchi(Chem.MolFromSmiles(self.reactants))\n",
    "\t\tproduct_inchi = Chem.MolToInchi(Chem.MolFromSmiles(self.products))\n",
    "\t\tproduct_inchi = product_inchi.replace('InChI=1S/', '')\n",
    "\t\tpseudo_rinchi = '<>'.join([reactant_inchi, product_inchi])\n",
    "\t\tpseudo_rinchi = pseudo_rinchi.replace('.', '!')\n",
    "\t\tpseudo_rinchi = pseudo_rinchi + '/d+'\n",
    "\t\treturn pseudo_rinchi\n",
    "\t\n",
    "\tdef generate_concatenatedRInChI(self, hash_inchi=True):\n",
    "\t\t\"\"\"Generates and concatenates the InChI for the reactants and products.\n",
    "\t\t\n",
    "\t\tParameters:\n",
    "\t\t\thash (bool): if hash is True (default), \n",
    "\t\t\t\treturns the hash of the inchi after concatenating instead of the concatenated InChI strings\n",
    "\t\t\n",
    "\t\tReturns:\n",
    "\t\t\tconcatenated_rinchi (str): if hash is False\n",
    "\t\t\thashed_inchi (str): if hash is True\n",
    "\n",
    "\t\tNotes:\n",
    "\t\t\tHashed InChIs are used in identifying duplicate reactions. InChIs are order invariant unlike SMILES.\n",
    "\t\t\"\"\"\n",
    "\t\treactant_inchi = Chem.MolToInchi(Chem.MolFromSmiles(remove_atommaps(self.reactants)))\n",
    "\t\tproduct_inchi = Chem.MolToInchi(Chem.MolFromSmiles(remove_atommaps(self.products)))\n",
    "\t\tself.concatenated_rinchi = '++'.join([reactant_inchi, product_inchi])\n",
    "\n",
    "\t\tif hash_inchi:\n",
    "\t\t\tself.hashed_inchi = hashlib.sha224(self.concatenated_rinchi.encode('utf8')).hexdigest()\n",
    "\t\t\treturn self.hashed_inchi\n",
    "\t\telse: \n",
    "\t\t\treturn self.concatenated_rinchi\n",
    "\t\n",
    "\tdef generate_reaction_identifier(self):\n",
    "\t\t\"\"\"Concatenates the InChI for the reactants and products, and hashes the resulting string with the\n",
    "\t\treaction id.\n",
    "\t\t\n",
    "\t\tCan be used to differentiate between different reaction records with source accounted for.\n",
    "\t\t\n",
    "\t\tReturns:\n",
    "\t\t\thashed_rid (str): Hash based on the reaction (reactant + product) and reaction id.\n",
    "\n",
    "\t\tNotes:\n",
    "\t\t\tHashed InChIs are used in identifying duplicate reactions. InChIs are order invariant unlike SMILES.\n",
    "\t\t\"\"\"\n",
    "\t\treactant_inchi = Chem.MolToInchi(Chem.MolFromSmiles(self.reactants))\n",
    "\t\tproduct_inchi = Chem.MolToInchi(Chem.MolFromSmiles(self.products))\n",
    "\t\tself.concatenated_rinchi = '++'.join([reactant_inchi, product_inchi])\n",
    "\n",
    "\t\tself.hashed_rid = hashlib.sha224(self.concatenated_rinchi.encode('utf8') + self.id.encode('utf8')).hexdigest()\n",
    "\t\treturn self.hashed_rid\n",
    "\n",
    "\tdef has_partial_mapping(self):\n",
    "\t\t\"\"\"Check product atom mapping. \n",
    "\n",
    "\t\tReturns:\n",
    "\t\t\tTrue (bool): If the number of atoms in product with mapping is less than the number of atoms in the product.\n",
    "\t\t\tFalse (bool): If the number of atoms in product with mapping equals the number of atoms in the product.\n",
    "\t\t\"\"\"\n",
    "\t\tfor product in self.product_mol_list:\n",
    "\t\t\tif sum([atom.HasProp('molAtomMapNumber') for atom in product.GetAtoms()]) < len(product.GetAtoms()):\n",
    "\t\t\t\tprint('Not all product atoms have atom mapping')\n",
    "\t\t\t\treturn True\n",
    "\t\t\telse: \n",
    "\t\t\t\treturn False\n",
    "\t\n",
    "\tdef generate_reaction_template(self, radius=1):\n",
    "\t\t\"\"\"Extracts the forward(canonical) and retro reaction template with the specified radius.\n",
    "\n",
    "\t\tParameters:\n",
    "\t\t\tradius (int): the radius refers to the number of atoms away from the reaction centre to be extracted (the enivronment)\n",
    "\t\t\t\ti.e. radius = 1 (default) returns the first neighbours around the reaction centre\n",
    "\t\t\tstereochemistry (bool): If True, stereochemistry will be retained in the extracted template. If False (default)\n",
    "\t\t\t\tstereochemistry will not be considered explicitly.\n",
    "\n",
    "\t\tReturns:\n",
    "\t\t\tcanonical_template (str): the template SMIRKS as a string\n",
    "\t\t\tretro_template (str): the template SMIRKS as a string\n",
    "\n",
    "\t\tReferences:\n",
    "\t\t\tUses a modified version of:\n",
    "\t\t\thttps://github.com/connorcoley/ochem_predict_nn/blob/master/data/generate_reaction_templates.py\n",
    "\t\t\thttps://github.com/connorcoley/rdchiral/blob/master/templates/template_extractor.py\n",
    "\t\t\"\"\"\n",
    "\t\treactants = self.reactant_mol_list\n",
    "\t\tproducts = self.product_mol_list\n",
    "\n",
    "\t\t#Check reaction for invalidity\n",
    "\t\ttry:\n",
    "\t\t\tif self.product_in_reactant_set():\n",
    "\t\t\t\treturn None\n",
    "\t\t\telif None in reactants + products:\n",
    "\t\t\t\tprint('Could not parse all molecules in reaction, skipping')\n",
    "\t\t\t\treturn None\n",
    "\t\t\telse: \n",
    "\t\t\t\tpass\n",
    "\t\texcept Exception as e:\n",
    "\t\t\tprint(e)\n",
    "\t\t\tprint('Reaction is not suitable for processing or invalid')\n",
    "\t\t\treturn None\n",
    "\t\t\n",
    "\t\t# try to sanitize molecules\n",
    "\t\t# TODO: could merge with sanitize reaction\n",
    "\t\ttry:\n",
    "\t\t\tfor i in range(len(reactants)):\n",
    "\t\t\t\treactants[i] = AllChem.RemoveHs(reactants[i]) # *might* not be safe\n",
    "\t\t\tfor i in range(len(products)):\n",
    "\t\t\t\tproducts[i] = AllChem.RemoveHs(products[i]) # *might* not be safe\n",
    "\t\t\t[Chem.SanitizeMol(mol) for mol in reactants + products] # redundant w/ RemoveHs\n",
    "\t\t\t[mol.UpdatePropertyCache() for mol in reactants + products]\n",
    "\t\texcept Exception as e:\n",
    "\t\t\t#can't sanitize -> skip\n",
    "\t\t\tprint(e)\n",
    "\t\t\tprint('Could not load SMILES or sanitize')\n",
    "\t\t\treturn None\n",
    "\n",
    "\t\t# Similar to has_partial mapping \n",
    "\t\t# TODO: could merge with has_partial_mapping\n",
    "\t\tare_unmapped_product_atoms = False\n",
    "\t\textra_reactant_fragment = ''\n",
    "\t\tfor product in products:\n",
    "\t\t\tprod_atoms = product.GetAtoms()\n",
    "\t\t\tif sum([a.HasProp('molAtomMapNumber') for a in prod_atoms]) < len(prod_atoms):\n",
    "\t\t\t\tif cc.VERBOSE: print('Not all product atoms have atom mapping')\n",
    "\t\t\t\tare_unmapped_product_atoms = True\n",
    "\t\t\n",
    "\t\tif are_unmapped_product_atoms: # add fragment to template\n",
    "\t\t\tfor product in products:\n",
    "\t\t\t\t# Get unmapped atoms\n",
    "\t\t\t\tunmapped_ids = [\n",
    "\t\t\t\t\ta.GetIdx() for a in prod_atoms if not a.HasProp('molAtomMapNumber')\n",
    "\t\t\t\t]\n",
    "\t\t\t\tif len(unmapped_ids) > cc.MAXIMUM_NUMBER_UNMAPPED_PRODUCT_ATOMS:\n",
    "\t\t\t\t\t# Skip this example - too many unmapped product atoms!\n",
    "\t\t\t\t\treturn\n",
    "\t\t\t\t# Define new atom symbols for fragment with atom maps, generalizing fully\n",
    "\t\t\t\tatom_symbols = ['[{}]'.format(a.GetSymbol()) for a in prod_atoms]\n",
    "\t\t\t\t# And bond symbols...\n",
    "\t\t\t\tbond_symbols = ['~' for b in product.GetBonds()]\n",
    "\t\t\t\tif unmapped_ids:\n",
    "\t\t\t\t\textra_reactant_fragment += AllChem.MolFragmentToSmiles(\n",
    "\t\t\t\t\t\tproduct, unmapped_ids, \n",
    "\t\t\t\t\t\tallHsExplicit = False, isomericSmiles = cc.USE_STEREOCHEMISTRY, \n",
    "\t\t\t\t\t\tatomSymbols = atom_symbols, bondSymbols = bond_symbols\n",
    "\t\t\t\t\t) + '.'\n",
    "\t\t\tif extra_reactant_fragment:\n",
    "\t\t\t\textra_reactant_fragment = extra_reactant_fragment[:-1]\n",
    "\t\t\t\tif cc.VERBOSE: print('    extra reactant fragment: {}'.format(extra_reactant_fragment))\n",
    "\n",
    "\t\t\t# Consolidate repeated fragments (stoichometry)\n",
    "\t\t\textra_reactant_fragment = '.'.join(sorted(list(set(extra_reactant_fragment.split('.')))))\n",
    "\n",
    "\t\t#Extract template\n",
    "\t\ttry:\n",
    "\t\t#Calculate changed atoms\n",
    "\t\t\tchanged_atoms, changed_atom_tags, err = cc.get_changed_atoms(reactants=reactants, products=products)\n",
    "\t\t\tif err: \n",
    "\t\t\t\tprint('Could not get changed atoms')\n",
    "\t\t\t\treturn None\n",
    "\t\t\telif not changed_atom_tags:\n",
    "\t\t\t\tprint('No atoms changed? - No reaction/Error')\n",
    "\t\t\t\treturn None\n",
    "\t\t\telse: \n",
    "\t\t\t\tpass\n",
    "\n",
    "\t\t\t#Get fragments for reactants\n",
    "\t\t\treactant_fragments, intra_only, dimer_only = cc.get_fragments_for_changed_atoms(reactants, changed_atom_tags, \n",
    "\t\t\t\tradius = radius, expansion = [], category = 'reactants')\n",
    "\t\t\t#Get fragments for products %%!\n",
    "\t\t\t#(WITHOUT matching groups but WITH the addition of reactant fragments)\n",
    "\t\t\tproduct_fragments, _, _  = cc.get_fragments_for_changed_atoms(products, changed_atom_tags, \n",
    "\t\t\t\t\t\tradius = radius, expansion = cc.expand_changed_atom_tags(changed_atom_tags, reactant_fragments),\n",
    "\t\t\t\t\t\tcategory = 'products')\n",
    "\t\t\t#Report transform\n",
    "\t\t\trxn_string = '{}>>{}'.format(reactant_fragments, product_fragments)\n",
    "\t\t\tcanonical_template = cc.canonicalize_transform(rxn_string)\n",
    "\t\t\t# Change from inter-molecular to intra-molecular \n",
    "\t\t\tcanonical_template_split = canonical_template.split('>>')\n",
    "\t\t\tself.canonical_template = canonical_template_split[0][1:-1].replace(').(', '.') + \\\n",
    "\t\t\t\t'>>' + canonical_template_split[1][1:-1].replace(').(', '.')\n",
    "\n",
    "\t\t\treactants_string = canonical_template.split('>>')[0]\n",
    "\t\t\tproducts_string  = canonical_template.split('>>')[1]\n",
    "\n",
    "\t\t\tself.retro_template = products_string + '>>' + reactants_string\n",
    "\n",
    "\t\t\t# Load into RDKit - same as validate template\n",
    "\t\t\t# TODO: Merge with validation\n",
    "\t\t\trxn = AllChem.ReactionFromSmarts(self.retro_template)\n",
    "\t\t\tif rxn.Validate()[1] != 0: \n",
    "\t\t\t\tprint('Could not validate reaction successfully')\n",
    "\t\t\t\tprint('retro_template: {}'.format(self.retro_template))\n",
    "\t\texcept Exception as e:\n",
    "\t\t\tprint(e)\n",
    "\t\t\tprint('Template could not be extracted')\n",
    "\t\t\treturn None\n",
    "\n",
    "\t\treturn self.canonical_template, self.retro_template\n",
    "\t\n",
    "\tdef check_retro_template_substructure(self, template, reactants, products):\n",
    "\t\t\"\"\"Checks whether a template SMIRKS is a substructure of a Reaction. \n",
    "\t\tReconstructs the reaction from the reactants and products.\n",
    "\n",
    "\t\tParameters:\n",
    "\t\t\ttemplate (str): Retro-reaction template SMIRKS pattern\n",
    "\t\t\treactants (str): Reactant SMILES string i.e. reactant1.reactant2.reactant3\n",
    "\t\t\tproducts (str): Product SMILES string i.e. product1.product2.product3\n",
    "\n",
    "\t\tReturns:\n",
    "\t\t\tTrue (bool): If Reaction and Template substructure match is found\n",
    "\t\t\tFalse (bool): If there is no match between Template and the reaction\n",
    "\t\t\"\"\"\n",
    "\t\tretro_template_product = template.split('>>')[0]\n",
    "\t\tretro_product= Chem.MolFromSmarts(retro_template_product)\n",
    "\t\treaction_product = Chem.MolFromSmiles(products)\n",
    "\t\tretro_template_reactants = template.split('>>')[1]\n",
    "\t\tretro_reactants = Chem.MolFromSmarts(retro_template_reactants)\n",
    "\t\treaction_reactants = Chem.MolFromSmiles(reactants)\n",
    "\t\tif reaction_product.HasSubstructMatch(retro_product) and reaction_reactants.HasSubstructMatch(retro_reactants):\n",
    "\t\t\treturn True\n",
    "\t\telse: \n",
    "\t\t\treturn False\n",
    "\t\n",
    "\tdef validate_retro_template(self, template):\n",
    "\t\t\"\"\"Checks whether the template is valid in RDKit.\n",
    "\t\t\n",
    "\t\tParameters:\n",
    "\t\t\ttemplate (str): Retro-reaction template SMIRKS pattern\n",
    "\n",
    "\t\tReturns:\n",
    "\t\t\tNone: If the template cannot be validated in RDKit\n",
    "\t\t\tTrue (bool): If the template can be validated in RDKit\n",
    "\t\t\"\"\"\n",
    "\t\ttemplate = rdChemReactions.ReactionFromSmarts(template)\n",
    "\t\tif template.Validate()[1] != 0:\n",
    "\t\t\tprint('Could not validate template - Invalid')\n",
    "\t\t\treturn None\n",
    "\t\telse: \n",
    "\t\t\treturn True\n",
    "\t\n",
    "\tdef check_retro_template_outcome(self, template, products, save_outcome=True):\n",
    "\t\t\"\"\"Checks whether the template produces an outcome and stores it.\n",
    "\n",
    "\t\tParameters:\n",
    "\t\t\ttemplate (str): Retro-reaction template SMIRKS pattern\n",
    "\t\t\tproduct_mol_list (list): List of product molecules to be synthesised as RDKit Mols.\n",
    "\t\t\t\tUsually the list only has one member, the recorded product in the dataset, or user specified compound to be synthesised.\n",
    "\t\t\tsave_outcome (bool): Speficifies whether to store the outcomes in the class-\n",
    "\n",
    "\t\tAssigns:\n",
    "\t\t\tretro_outcomes (obj):\n",
    "\n",
    "\t\tReturns:\n",
    "\t\t\tnumber of outcomes (int): the number of outcomes generated from application of the template\n",
    "\t\t\"\"\"\n",
    "\t\t# template = rdChemReactions.ReactionFromSmarts(template)\n",
    "\t\t# outcomes = template.RunReactants(product_mol_list)\n",
    "\t\toutcomes = rdc.rdchiralRunText(template, products)\n",
    "\t\tif save_outcome:\n",
    "\t\t\tself.retro_outcomes = outcomes\n",
    "\t\telse: \n",
    "\t\t\tpass\n",
    "\t\tif len(outcomes) == 0:\n",
    "\t\t\tprint(\"No transformation - invalid template\")\n",
    "\t\t\treturn len(outcomes)\n",
    "\t\telse: \n",
    "\t\t\treturn len(outcomes)\n",
    "\t\n",
    "\tdef assess_retro_template(self, template, reactant_mol_list, retro_outcomes):\n",
    "\t\t\"\"\"Checks whether the recorded reactants belong to the set of generated precursors.\n",
    "\n",
    "\t\tParameters:\n",
    "\t\t\ttemplate (str): Retro-reaction template SMIRKS string\n",
    "\t\t\treactant_mol_list (list): List of the recorded reactant molecules to be cross-checked as RDKit Mols.\n",
    "\t\t\tretro_outcomes (obj): outcome list from the function 'check_retro_template_outcome()' or object generated from RdKit 'RunReactants'.\n",
    "\t\t\tstereochemistry (bool): If True, stereochemistry will be considered when matching generated and recorded outcomes. \n",
    "\t\t\t\tIf False (default) stereochemistry will not be considered and matches will be done on the scaffold.\n",
    "\t\t\n",
    "\t\tReturns:\n",
    "\t\t\tselectivity (float): the fraction of generated precursors matching the recorded precursors\n",
    "\t\t\t\ti.e. 1.0 - match or match.match or match.match.match etc.\n",
    "\t\t\t\t\t0.5 - match.none or match.none.match.none etc.\n",
    "\t\t\t\t\t0.0 - none\n",
    "\n",
    "\t\tNotes:\n",
    "\t\t\tRequires an outcome list from the function 'check_retro_template_outcome()'\n",
    "\t\t\"\"\"\n",
    "\t\ttemplate = rdChemReactions.ReactionFromSmarts(template)\n",
    "\n",
    "\t\tif cc.USE_STEREOCHEMISTRY is False:\n",
    "\t\t\treactant_mol_list = []\n",
    "\t\t\tfor smiles in self.reactant_list:\n",
    "\t\t\t\tif not smiles: \n",
    "\t\t\t\t\tcontinue\n",
    "\t\t\t\treactant_mol_list.append(rdmolfiles.MolFromSmiles(smiles.replace('@','')))\n",
    "\t\telse: \n",
    "\t\t\treactant_mol_list = reactant_mol_list\n",
    "\n",
    "\t\treactant_inchi = [Chem.MolToInchi(reactant) for reactant in reactant_mol_list]\n",
    "\t\tprecursor_set = []\n",
    "\t\tfor outcome_set in retro_outcomes:\n",
    "\t\t\tif cc.USE_STEREOCHEMISTRY is False:\n",
    "\t\t\t\toutcome_set_inchi = [Chem.MolToInchi(Chem.MolFromSmiles(outcome.replace('@',''))) for outcome in outcome_set.split('.')]\n",
    "\t\t\telse:\n",
    "\t\t\t\toutcome_set_inchi = [Chem.MolToInchi(Chem.MolFromSmiles(outcome)) for outcome in outcome_set.split('.')]\n",
    "\t\t\tprecursor_set.append(outcome_set_inchi)\n",
    "\t\tassessment = []\n",
    "\t\tfor precursor in precursor_set:\n",
    "\t\t\t#There must be a match between the generated outcomes and recorded reactants \n",
    "\t\t\tif len(list(set(precursor) & set(reactant_inchi))) != 0:\n",
    "\t\t\t\tassessment.append(2)\n",
    "\t\t\t#No match or error\n",
    "\t\t\telif len(list(set(precursor) & set(reactant_inchi))) == 0:\n",
    "\t\t\t\tassessment.append(1)\n",
    "\t\t\telse:\n",
    "\t\t\t\tprint(\"Template error\")\n",
    "\t\t\t\tassessment.append(0)\n",
    "\t\t\n",
    "\t\t#Quantify the level of selectivity, if an error has occured set to 0\n",
    "\t\tif assessment.count(0) != 0:\n",
    "\t\t\treturn 0\n",
    "\t\telse:\n",
    "\t\t\tselectivity = assessment.count(2)/len(assessment)\n",
    "\t\t\treturn selectivity\n",
    "\n",
    "\tdef hash_template(self, template):\n",
    "\t\t\"\"\" Hashes the reaction template.\n",
    "\n",
    "\t\tParameters:\n",
    "\t\t\ttemplate (str): template SMIRKS pattern\n",
    "\t\t\n",
    "\t\tReturns:\n",
    "\t\t\thashed_template (str): sha224 hash of the template SMIRKS pattern\n",
    "\t\t\"\"\"\n",
    "\t\ttemplate = rdChemReactions.ReactionFromSmarts(template)\n",
    "\t\trdChemReactions.RemoveMappingNumbersFromReactions(template)\n",
    "\t\ttemplate = rdChemReactions.ReactionToSmiles(template)\n",
    "\t\tself.hashed_template = hashlib.sha224(template.encode('utf8')).hexdigest()\n",
    "\t\treturn self.hashed_template\n",
    "\n",
    "class Binarizer:\n",
    "\t\"\"\"Allows conversion between SMILES and RDKit binary format\n",
    "\t\"\"\"\n",
    "\tdef to_binary_value(self, component):\n",
    "\t\t\"\"\"Gets the biary representation of a reaction component from the SMILES.\n",
    "\t\tAlso works if the SMILES are separated by a '.' i.e. the reactants\n",
    "\n",
    "\t\tParameters:\n",
    "\t\t\tcomponent (str): SMILES string of the component species\n",
    "\n",
    "\t\tReturns:\n",
    "\t\t\tbinary_mol (bytes): byte string representation of the molecule\n",
    "\t\t\"\"\"\n",
    "\t\tcomponent_mol = Chem.MolFromSmiles(component)\n",
    "\t\treturn component_mol.ToBinary()\n",
    "\t\n",
    "\tdef from_binary_value(self, component):\n",
    "\t\t\"\"\"Retrieves the SMILES representation of a reaction component from binary.\n",
    "\n",
    "\t\tParameters:\n",
    "\t\t\tcomponent (bytes): byte string representation of the molecule\n",
    "\t\t\n",
    "\t\tReturns:\n",
    "\t\t\tcomponent (str): SMILES string of the component species\n",
    "\t\t\"\"\"\n",
    "\t\treturn Chem.MolToSmiles(Chem.Mol(component))\n",
    "\t\n",
    "\tdef reaction_smiles_from_binary(self, reactants, products):\n",
    "\t\t\"\"\"Returns the reaction SMILES from the reactants and products stored in binary\n",
    "\n",
    "\t\tParameters:\n",
    "\t\t\treactants (bytes): byte string representation of the reactants\n",
    "\t\t\tproducts (bytes): byte string representation of the products\n",
    "\t\t\n",
    "\t\tReturns:\n",
    "\t\t\treaction (str): SMILES string of the reaction\n",
    "\t\t\"\"\"\n",
    "\t\treac = self.from_binary_value(reactants)\n",
    "\t\tprod = self.from_binary_value(products)\n",
    "\t\treturn '>>'.join([reac, prod])\n",
    "\t\n",
    "\tdef template_to_binary(self, template):\n",
    "\t\t\"\"\"Gets the binary representation of a reaction/transform/template\n",
    "\n",
    "\t\tParameters:\n",
    "\t\t\ttemplate (str): template SMIRKS pattern\n",
    "\n",
    "\t\tReturns:\n",
    "\t\t\ttemplate (bytes): byte string representation of the template\n",
    "\t\t\"\"\"\n",
    "\t\tleft = Chem.MolFromSmarts(template.split('>>')[0]).ToBinary()\n",
    "\t\tright = Chem.MolFromSmarts(template.split('>>')[1]).ToBinary()\n",
    "\t\treturn b'>>'.join([left, right])\n",
    "\t\n",
    "\tdef template_from_binary(self, template):\n",
    "\t\t\"\"\"Gets the SMILES representation of a reaction/transform/template\n",
    "\n",
    "\t\tParameters:\n",
    "\t\t\ttemplate (bytes): byte string representation of the template\n",
    "\n",
    "\t\tReturns:\n",
    "\t\t\ttemplate (str): template SMIRKS pattern\n",
    "\t\t\"\"\"\n",
    "\t\tleft = Chem.MolToSmarts(Chem.Mol(template.split(b'>>')[0]))\n",
    "\t\tright = Chem.MolToSmarts(Chem.Mol(template.split(b'>>')[1]))\n",
    "\t\treturn '>>'.join([left, right])\n",
    "\n",
    "class Parsers:\n",
    "\t\"\"\"Allows parsing of different data formats into the required format.\n",
    "\tShould be added to and modified for each new data source.\n",
    "\n",
    "\tRequired output format:\n",
    "\t'pd.DataFrame(columns=['rsmi', 'ID', 'classification_id', 'classification'])'\n",
    "\n",
    "\tCan be extended to incorporate more information if/when available. Changes must be reflected in the extraction script to allow\n",
    "\tproper parsing.\n",
    "\t\"\"\"\n",
    "\n",
    "\tdef import_USPTO(self, data):\n",
    "\t\t\"\"\"Loads, sorts, crudely curates the USPTO 1976-2016 data.\n",
    "\n",
    "\t\tParameters:\n",
    "\t\t\tdatafile (csv file): a csv file containing the required data.\n",
    "\t\t\n",
    "\t\tReturns:\n",
    "\t\t\tdataframe (pd.DataFrame): pd.DataFrame(columns=['rsmi', 'ID', 'classification_id', 'classification'])\n",
    "\t\t\"\"\"\n",
    "\t\tdf = pd.read_csv(data, index_col=0, header=None, names=['rsmi', 'patent_id', 'para_num', 'year', 'classification', 'text_yield', 'calc_yield'], sep=';', engine='python')\n",
    "\t\tUSPTO_data = pd.DataFrame(columns=['rsmi', 'ID', 'classification_id', 'classification'])\n",
    "\t\tfor index, row in df.iterrows():\n",
    "\t\t\ttry:\n",
    "\t\t\t\tID = str(row['patent_id']) + \";\" + str(row['para_num']) + \";\" + str(row['year'])\n",
    "\t\t\t\t#print(row['rsmi'])\n",
    "\t\t\t\tif len(row['rsmi'].split()) == 0:\n",
    "\t\t\t\t\tcontinue\n",
    "\t\t\t\tline = [row['rsmi'].split()[0], ID, float('nan'), row['classification']]\n",
    "\t\t\t\tdf2 = pd.DataFrame([line], columns=['rsmi', 'ID', 'classification_id', 'classification'])\n",
    "\t\t\t\tUSPTO_data = USPTO_data.append(df2, sort = False)\n",
    "\t\t\texcept:\n",
    "\t\t\t\tcontinue\n",
    "\t\treturn USPTO_data"
   ]
  },
  {
   "cell_type": "code",
   "execution_count": 2,
   "metadata": {},
   "outputs": [],
   "source": [
    "# Reaction examples, reactions 1 & 2 are equivalent (re-ordered), reaction 3: product in reactant set, reactions 4,5,6: unique\n",
    "reaction1 = \"Br[CH2:12][c:13]1[cH:14][c:15]([C:19]([O:20][CH3:21])=[O:22])[cH:16][cH:17][cH:18]1.O=C([O-])[O-].[Cl:1][c:2]1[n:3][c:4]2[c:5]([nH:6][cH:7][n:8]2)[c:9]([NH2:10])[n:11]1.[K+].[K+]>CN(C)C=O>[Cl:1][c:2]1[n:3][c:4]2[c:5]([n:6][cH:7][n:8]2[CH2:12][c:13]2[cH:14][c:15]([C:19]([O:20][CH3:21])=[O:22])[cH:16][cH:17][cH:18]2)[c:9]([NH2:10])[n:11]1\"\n",
    "reaction2 = \"[K+].[K+].Br[CH2:12][c:13]1[cH:14][c:15]([C:19]([O:20][CH3:21])=[O:22])[cH:16][cH:17][cH:18]1.O=C([O-])[O-].[Cl:1][c:2]1[n:3][c:4]2[c:5]([nH:6][cH:7][n:8]2)[c:9]([NH2:10])[n:11]1.CN(C)C=O>>[Cl:1][c:2]1[n:3][c:4]2[c:5]([n:6][cH:7][n:8]2[CH2:12][c:13]2[cH:14][c:15]([C:19]([O:20][CH3:21])=[O:22])[cH:16][cH:17][cH:18]2)[c:9]([NH2:10])[n:11]1\"\n",
    "reaction3 = \"[Cl:1][c:2]1[n:3][c:4]2[c:5]([n:6][cH:7][n:8]2[CH2:12][c:13]2[cH:14][c:15]([C:19]([O:20][CH3:21])=[O:22])[cH:16][cH:17][cH:18]2)[c:9]([NH2:10])[n:11]1.Br[CH2:12][c:13]1[cH:14][c:15]([C:19]([O:20][CH3:21])=[O:22])[cH:16][cH:17][cH:18]1.O=C([O-])[O-].[Cl:1][c:2]1[n:3][c:4]2[c:5]([nH:6][cH:7][n:8]2)[c:9]([NH2:10])[n:11]1.[K+].[K+]>CN(C)C=O>[Cl:1][c:2]1[n:3][c:4]2[c:5]([n:6][cH:7][n:8]2[CH2:12][c:13]2[cH:14][c:15]([C:19]([O:20][CH3:21])=[O:22])[cH:16][cH:17][cH:18]2)[c:9]([NH2:10])[n:11]1\"\n",
    "reaction4 = \"Br[CH:16]([c:17]1[cH:18][cH:19][cH:20][cH:21][cH:22]1)[C:23]([O:24][CH2:25][CH3:26])=[O:27].O=C([O-])[O-].[K+].[K+].[O:1]([CH2:2][CH2:3][O:4][c:5]1[n:6][c:7]2[c:8]([nH:9][cH:10][n:11]2)[c:12]([NH2:13])[n:14]1)[CH3:15]>CN(C)C=O>[O:1]([CH2:2][CH2:3][O:4][c:5]1[n:6][c:7]2[c:8]([n:9][cH:10][n:11]2[CH:16]([c:17]2[cH:18][cH:19][cH:20][cH:21][cH:22]2)[C:23]([O:24][CH2:25][CH3:26])=[O:27])[c:12]([NH2:13])[n:14]1)[CH3:15]\"\n",
    "reaction5 = \"CCN(CC)c1ccccc1.O.O=S(Cl)[Cl:12].O[CH:1]([c:2]1[cH:3][c:4]([C:8]([NH2:9])=[O:10])[cH:5][cH:6][cH:7]1)[CH3:11]>ClCCl>[CH:1]([c:2]1[cH:3][c:4]([C:8]([NH2:9])=[O:10])[cH:5][cH:6][cH:7]1)([CH3:11])[Cl:12]\"\n",
    "#wittig olefination\n",
    "reaction6 = \"C[Si](C)(C)[N-][Si](C)(C)C.O=[C:1]1[CH2:2][CH2:3][C@H:4]([C:5]([O:6][C:7]([CH3:8])([CH3:9])[CH3:10])=[O:11])[C@@H:12]([C:13]([O:14][CH2:15][c:16]2[cH:17][cH:18][cH:19][cH:20][cH:21]2)=[O:22])[CH2:23]1.[Na+]>Cc1ccccc1.[Br-].c1ccc([P+](c2ccccc2)(c2ccccc2)[CH3:24])cc1>[C:1]1(=[CH2:24])[CH2:2][CH2:3][C@H:4]([C:5]([O:6][C:7]([CH3:8])([CH3:9])[CH3:10])=[O:11])[C@@H:12]([C:13]([O:14][CH2:15][c:16]2[cH:17][cH:18][cH:19][cH:20][cH:21]2)=[O:22])[CH2:23]1\"\n",
    "reaction7 = \"Cl.O=[Mn](=O)([O-])=[O:14].[Cl:1][c:2]1[c:3]([CH3:13])[cH:4][c:5]([O:11][CH3:12])[c:6]([N+:8](=[O:9])[O-:10])[cH:7]1.[K+].[OH2:15]>>[Cl:1][c:2]1[c:3]([C:13]([OH:14])=[O:15])[cH:4][c:5]([O:11][CH3:12])[c:6]([N+:8](=[O:9])[O-:10])[cH:7]1\""
   ]
  },
  {
   "cell_type": "code",
   "execution_count": 3,
   "metadata": {},
   "outputs": [],
   "source": [
    "test = Reaction(reaction1)"
   ]
  },
  {
   "cell_type": "code",
   "execution_count": 4,
   "metadata": {},
   "outputs": [
    {
     "data": {
      "text/plain": [
       "'Br[CH2:12][c:13]1[cH:14][c:15]([C:19]([O:20][CH3:21])=[O:22])[cH:16][cH:17][cH:18]1.O=C([O-])[O-].[Cl:1][c:2]1[n:3][c:4]2[c:5]([nH:6][cH:7][n:8]2)[c:9]([NH2:10])[n:11]1.[K+].[K+].CN(C)C=O>>[Cl:1][c:2]1[n:3][c:4]2[c:5]([n:6][cH:7][n:8]2[CH2:12][c:13]2[cH:14][c:15]([C:19]([O:20][CH3:21])=[O:22])[cH:16][cH:17][cH:18]2)[c:9]([NH2:10])[n:11]1'"
      ]
     },
     "execution_count": 4,
     "metadata": {},
     "output_type": "execute_result"
    }
   ],
   "source": [
    "test.rsmi"
   ]
  },
  {
   "cell_type": "code",
   "execution_count": 5,
   "metadata": {},
   "outputs": [
    {
     "data": {
      "image/png": "[encoded data removed]",
      "text/plain": [
       "<rdkit.Chem.rdChemReactions.ChemicalReaction at 0x7f0fec8782b0>"
      ]
     },
     "execution_count": 5,
     "metadata": {},
     "output_type": "execute_result"
    }
   ],
   "source": [
    "rdChemReactions.ReactionFromSmarts(test.rsmi)"
   ]
  },
  {
   "cell_type": "code",
   "execution_count": 6,
   "metadata": {},
   "outputs": [
    {
     "data": {
      "text/plain": [
       "False"
      ]
     },
     "execution_count": 6,
     "metadata": {},
     "output_type": "execute_result"
    }
   ],
   "source": [
    "len(test.rsmi.split('>')) > 3"
   ]
  },
  {
   "cell_type": "code",
   "execution_count": 7,
   "metadata": {},
   "outputs": [
    {
     "data": {
      "text/plain": [
       "False"
      ]
     },
     "execution_count": 7,
     "metadata": {},
     "output_type": "execute_result"
    }
   ],
   "source": [
    "len(test.product_list) > 1"
   ]
  },
  {
   "cell_type": "code",
   "execution_count": 8,
   "metadata": {},
   "outputs": [
    {
     "data": {
      "text/plain": [
       "False"
      ]
     },
     "execution_count": 8,
     "metadata": {},
     "output_type": "execute_result"
    }
   ],
   "source": [
    "test.incomplete_reaction()"
   ]
  },
  {
   "cell_type": "code",
   "execution_count": 9,
   "metadata": {},
   "outputs": [
    {
     "data": {
      "text/plain": [
       "False"
      ]
     },
     "execution_count": 9,
     "metadata": {},
     "output_type": "execute_result"
    }
   ],
   "source": [
    "test.equivalent_reactant_product_set()"
   ]
  },
  {
   "cell_type": "code",
   "execution_count": 10,
   "metadata": {},
   "outputs": [
    {
     "data": {
      "text/plain": [
       "('Br-[CH2;D2;+0:1]-[c:2]1:[c:3]:[c:4](-[C:5](=[O;D1;H0:6])-[#8:7]-[C;D1;H3:8]):[c:9]:[c:10]:[c:11]:1.[#7;a:12]:[c:13]:[c:14]1:[nH;D2;+0:15]:[c:16]:[n;H0;D2;+0:17]:[c:18]:1:[#7;a:19]>>[#7;a:12]:[c:13]:[c:14]1:[n;H0;D2;+0:15]:[c:16]:[n;H0;D3;+0:17](-[CH2;D2;+0:1]-[c:2]2:[c:3]:[c:4](-[C:5](=[O;D1;H0:6])-[#8:7]-[C;D1;H3:8]):[c:9]:[c:10]:[c:11]:2):[c:18]:1:[#7;a:19]',\n",
       " '([#7;a:12]:[c:13]:[c:14]1:[n;H0;D2;+0:15]:[c:16]:[n;H0;D3;+0:17](-[CH2;D2;+0:1]-[c:2]2:[c:3]:[c:4](-[C:5](=[O;D1;H0:6])-[#8:7]-[C;D1;H3:8]):[c:9]:[c:10]:[c:11]:2):[c:18]:1:[#7;a:19])>>(Br-[CH2;D2;+0:1]-[c:2]1:[c:3]:[c:4](-[C:5](=[O;D1;H0:6])-[#8:7]-[C;D1;H3:8]):[c:9]:[c:10]:[c:11]:1).([#7;a:12]:[c:13]:[c:14]1:[nH;D2;+0:15]:[c:16]:[n;H0;D2;+0:17]:[c:18]:1:[#7;a:19])')"
      ]
     },
     "execution_count": 10,
     "metadata": {},
     "output_type": "execute_result"
    }
   ],
   "source": [
    "test.generate_reaction_template(radius=1)"
   ]
  },
  {
   "cell_type": "code",
   "execution_count": 11,
   "metadata": {},
   "outputs": [
    {
     "data": {
      "image/png": "[encoded data removed]",
      "text/plain": [
       "<rdkit.Chem.rdChemReactions.ChemicalReaction at 0x7f0fc0285df0>"
      ]
     },
     "execution_count": 11,
     "metadata": {},
     "output_type": "execute_result"
    }
   ],
   "source": [
    "rdChemReactions.ReactionFromSmarts(test.retro_template)"
   ]
  },
  {
   "cell_type": "code",
   "execution_count": 12,
   "metadata": {},
   "outputs": [
    {
     "data": {
      "image/png": "[encoded data removed]",
      "text/plain": [
       "<rdkit.Chem.rdChemReactions.ChemicalReaction at 0x7f0fc0285e90>"
      ]
     },
     "execution_count": 12,
     "metadata": {},
     "output_type": "execute_result"
    }
   ],
   "source": [
    "rdChemReactions.ReactionFromSmarts(test.canonical_template)"
   ]
  },
  {
   "cell_type": "code",
   "execution_count": 13,
   "metadata": {},
   "outputs": [
    {
     "data": {
      "text/plain": [
       "True"
      ]
     },
     "execution_count": 13,
     "metadata": {},
     "output_type": "execute_result"
    }
   ],
   "source": [
    "test.validate_retro_template(test.retro_template)"
   ]
  },
  {
   "cell_type": "code",
   "execution_count": 14,
   "metadata": {},
   "outputs": [
    {
     "data": {
      "text/plain": [
       "1"
      ]
     },
     "execution_count": 14,
     "metadata": {},
     "output_type": "execute_result"
    }
   ],
   "source": [
    "test.check_retro_template_outcome(test.retro_template, test.products, save_outcome=True)"
   ]
  },
  {
   "cell_type": "code",
   "execution_count": 15,
   "metadata": {},
   "outputs": [
    {
     "data": {
      "text/plain": [
       "['COC(=O)c1cccc(CBr)c1.c1nc2n[c:2]([Cl:1])nc([NH2:10])c2[nH]1']"
      ]
     },
     "execution_count": 15,
     "metadata": {},
     "output_type": "execute_result"
    }
   ],
   "source": [
    "test.retro_outcomes"
   ]
  },
  {
   "cell_type": "code",
   "execution_count": 16,
   "metadata": {},
   "outputs": [
    {
     "data": {
      "text/plain": [
       "1.0"
      ]
     },
     "execution_count": 16,
     "metadata": {},
     "output_type": "execute_result"
    }
   ],
   "source": [
    "test.assess_retro_template(test.retro_template, test.reactant_mol_list, test.retro_outcomes)"
   ]
  },
  {
   "cell_type": "code",
   "execution_count": 17,
   "metadata": {},
   "outputs": [
    {
     "data": {
      "text/plain": [
       "'InChI=1S/C9H9BrO2.C5H4ClN5.C3H7NO.CH2O3.2K/c1-12-9(11)8-4-2-3-7(5-8)6-10;6-5-10-3(7)2-4(11-5)9-1-8-2;1-4(2)3-5;2-1(3)4;;/h2-5H,6H2,1H3;1H,(H3,7,8,9,10,11);3H,1-2H3;(H2,2,3,4);;/q;;;;2*+1/p-2++InChI=1S/C14H12ClN5O2/c1-22-13(21)9-4-2-3-8(5-9)6-20-7-17-10-11(16)18-14(15)19-12(10)20/h2-5,7H,6H2,1H3,(H2,16,18,19)'"
      ]
     },
     "execution_count": 17,
     "metadata": {},
     "output_type": "execute_result"
    }
   ],
   "source": [
    "test.generate_concatenatedRInChI(hash_inchi=False)"
   ]
  },
  {
   "cell_type": "code",
   "execution_count": 18,
   "metadata": {},
   "outputs": [
    {
     "data": {
      "text/plain": [
       "'d39c5b9846c01d5142fc33294ea9078e9a00d60aa66a069c4a9611d1'"
      ]
     },
     "execution_count": 18,
     "metadata": {},
     "output_type": "execute_result"
    }
   ],
   "source": [
    "test.generate_concatenatedRInChI(hash_inchi=True)"
   ]
  },
  {
   "cell_type": "code",
   "execution_count": 19,
   "metadata": {},
   "outputs": [
    {
     "data": {
      "text/plain": [
       "'d5843c40137bed2cddaef91ab2d862ae043ae8409ed62ee6d68f3b33'"
      ]
     },
     "execution_count": 19,
     "metadata": {},
     "output_type": "execute_result"
    }
   ],
   "source": [
    "test.hash_template(test.retro_template)"
   ]
  },
  {
   "cell_type": "code",
   "execution_count": null,
   "metadata": {},
   "outputs": [],
   "source": []
  },
  {
   "cell_type": "code",
   "execution_count": null,
   "metadata": {},
   "outputs": [],
   "source": []
  },
  {
   "cell_type": "code",
   "execution_count": null,
   "metadata": {},
   "outputs": [],
   "source": []
  }
 ],
 "metadata": {
  "kernelspec": {
   "display_name": "synthplan (conda, py3.6.8)",
   "language": "python",
   "name": "synthplan"
  },
  "language_info": {
   "codemirror_mode": {
    "name": "ipython",
    "version": 3
   },
   "file_extension": ".py",
   "mimetype": "text/x-python",
   "name": "python",
   "nbconvert_exporter": "python",
   "pygments_lexer": "ipython3",
   "version": "3.6.8"
  },
  "pycharm": {
   "stem_cell": {
    "cell_type": "raw",
    "source": [],
    "metadata": {
     "collapsed": false
    }
   }
  }
 },
 "nbformat": 4,
 "nbformat_minor": 2
}