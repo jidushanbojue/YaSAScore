{
 "cells": [
  {
   "cell_type": "code",
   "execution_count": 1,
   "metadata": {},
   "outputs": [],
   "source": [
    "import pandas as pd"
   ]
  },
  {
   "cell_type": "code",
   "execution_count": 2,
   "metadata": {},
   "outputs": [],
   "source": [
    "filename = # Path to .csv file containing template library to be converted"
   ]
  },
  {
   "cell_type": "code",
   "execution_count": 3,
   "metadata": {},
   "outputs": [
    {
     "name": "stderr",
     "output_type": "stream",
     "text": [
      "/home/knwb390/miniconda3/envs/synthplan/lib/python3.6/site-packages/ipykernel_launcher.py:5: SettingWithCopyWarning: \n",
      "A value is trying to be set on a copy of a slice from a DataFrame\n",
      "\n",
      "See the caveats in the documentation: http://pandas.pydata.org/pandas-docs/stable/indexing.html#indexing-view-versus-copy\n",
      "  \"\"\"\n",
      "/home/knwb390/miniconda3/envs/synthplan/lib/python3.6/site-packages/ipykernel_launcher.py:7: SettingWithCopyWarning: \n",
      "A value is trying to be set on a copy of a slice from a DataFrame\n",
      "\n",
      "See the caveats in the documentation: http://pandas.pydata.org/pandas-docs/stable/indexing.html#indexing-view-versus-copy\n",
      "  import sys\n"
     ]
    }
   ],
   "source": [
    "data = pd.read_csv(filename, index_col=None, header=None, names = [\"index\", \"ID\", \"reaction_hash\", \"reactants\", \"products\", \"classification\", \"retro_template\", \"template_hash\", \"selectivity\", \"outcomes\", \"template_code\"])\n",
    "d = data.set_index('template_code')\n",
    "d.sort_index(inplace=True)\n",
    "template_data = data[[\"retro_template\",\"classification\", \"template_code\"]]\n",
    "template_data.drop_duplicates(subset='template_code', keep='first', inplace=True)\n",
    "template_data.set_index(\"template_code\", inplace=True)\n",
    "template_data.sort_index(inplace=True)\n",
    "template_data.to_hdf(\"%s.hdf\"%filename, \"table\")"
   ]
  },
  {
   "cell_type": "code",
   "execution_count": null,
   "metadata": {},
   "outputs": [],
   "source": []
  }
 ],
 "metadata": {
  "kernelspec": {
   "display_name": "synthplan (conda, py3.6.8)",
   "language": "python",
   "name": "synthplan"
  },
  "language_info": {
   "codemirror_mode": {
    "name": "ipython",
    "version": 3
   },
   "file_extension": ".py",
   "mimetype": "text/x-python",
   "name": "python",
   "nbconvert_exporter": "python",
   "pygments_lexer": "ipython3",
   "version": "3.6.8"
  }
 },
 "nbformat": 4,
 "nbformat_minor": 2
}