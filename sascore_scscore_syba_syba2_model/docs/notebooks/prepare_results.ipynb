{
 "cells": [
  {
   "cell_type": "markdown",
   "metadata": {},
   "source": [
    "# Calculate SYBA and other scores"
   ]
  },
  {
   "cell_type": "markdown",
   "metadata": {},
   "source": [
    "## Requirments\n",
    "We compared SYBA with SAScore (https://github.com/rdkit/rdkit/tree/master/Contrib/SA_Score), SCScore (https://github.com/connorcoley/scscore) and random forest trained within scikit-learn framework so these packages have to be installed. Complexity metrics are calculated from Nonpher package (https://github.com/lich-uct/nonpher). Cheminformatics library RDKit is also needed for all models (SYBA, SAScore, SCScore, RF) and complexities from Nonpher. To run this notebook, Jupyter has to be installed.\n",
    "\n",
    "To obtain SAScore and SCScore, you may to download/clone and add folder with python files to PYTHONPATH before running Jupyter:\n",
    "```bash\n",
    "# for Nonpher installation with conda\n",
    "conda install -c rdkit -c lich nonpher\n",
    "conda install scikit-learn jupyter\n",
    "\n",
    "# PATH_TO_SASCORE is path to folder, where is sascorer.py file\n",
    "# PATH_TO_SCSCORE is path to cloned SCScore folder from github\n",
    "export PYTHONPATH=PATH_TO_SASCORE:PATH_TO_SCSCORE:$PYTHONPATH\n",
    "jupyter notebook\n",
    "```"
   ]
  },
  {
   "cell_type": "code",
   "execution_count": 1,
   "metadata": {},
   "outputs": [],
   "source": [
    "# from sklearn.externals import joblib\n",
    "import joblib\n",
    "from rdkit.Chem.Draw import IPythonConsole #Needed to show molecules+\n",
    "from rdkit.Chem import Draw\n",
    "from rdkit.Chem import AllChem as Chem\n",
    "import gzip\n",
    "import os"
   ]
  },
  {
   "cell_type": "code",
   "execution_count": 2,
   "metadata": {},
   "outputs": [],
   "source": [
    "from syba.syba import SybaClassifier, SmiMolSupplier\n",
    "from scscore.standalone_model_numpy import SCScorer\n",
    "import sascorer as sa\n",
    "from sklearn.ensemble import RandomForestClassifier\n",
    "\n",
    "# needed to calculate complexities\n",
    "from nonpher import complex_lib as cmplx"
   ]
  },
  {
   "cell_type": "markdown",
   "metadata": {},
   "source": [
    "## How models predict scores or classes"
   ]
  },
  {
   "cell_type": "code",
   "execution_count": 3,
   "metadata": {},
   "outputs": [
    {
     "data": {
      "image/png": "[encoded data removed]",
      "text/plain": [
       "<rdkit.Chem.rdchem.Mol at 0x7fa3e0f5c3f0>"
      ]
     },
     "execution_count": 3,
     "metadata": {},
     "output_type": "execute_result"
    }
   ],
   "source": [
    "smi = \"O=C(C)Oc1ccccc1C(=O)O\"\n",
    "mol = Chem.MolFromSmiles(smi)\n",
    "Chem.MolFromSmiles(smi)"
   ]
  },
  {
   "cell_type": "markdown",
   "metadata": {},
   "source": [
    "## SYBA"
   ]
  },
  {
   "cell_type": "code",
   "execution_count": 4,
   "metadata": {},
   "outputs": [
    {
     "data": {
      "text/plain": [
       "15.47612958023674"
      ]
     },
     "execution_count": 4,
     "metadata": {},
     "output_type": "execute_result"
    }
   ],
   "source": [
    "syba = SybaClassifier()\n",
    "syba.fitDefaultScore()\n",
    "syba.predict(smi)"
   ]
  },
  {
   "cell_type": "markdown",
   "metadata": {},
   "source": [
    "## SAScore"
   ]
  },
  {
   "cell_type": "code",
   "execution_count": 5,
   "metadata": {},
   "outputs": [
    {
     "data": {
      "text/plain": [
       "1.580039750008826"
      ]
     },
     "execution_count": 5,
     "metadata": {},
     "output_type": "execute_result"
    }
   ],
   "source": [
    "sa.calculateScore(mol)"
   ]
  },
  {
   "cell_type": "markdown",
   "metadata": {},
   "source": [
    "## SCScore"
   ]
  },
  {
   "cell_type": "code",
   "execution_count": 6,
   "metadata": {},
   "outputs": [
    {
     "name": "stdout",
     "output_type": "stream",
     "text": [
      "Restored variables from /home/milan/workspace/scscore/models/full_reaxys_model_1024bool/model.ckpt-10654.as_numpy.pickle\n"
     ]
    },
    {
     "data": {
      "text/plain": [
       "1.5930637909666663"
      ]
     },
     "execution_count": 6,
     "metadata": {},
     "output_type": "execute_result"
    }
   ],
   "source": [
    "scscore = SCScorer()\n",
    "scscore.restore()\n",
    "scscore.get_score_from_smi(smi)[1]"
   ]
  },
  {
   "cell_type": "markdown",
   "metadata": {},
   "source": [
    "## Random forest"
   ]
  },
  {
   "cell_type": "markdown",
   "metadata": {},
   "source": [
    "Random forest classifier is trained on 1024-bit ECFP4-like fingerprints (model can't be shared within this repository due to its enormous size of 1.6GB)"
   ]
  },
  {
   "cell_type": "code",
   "execution_count": 7,
   "metadata": {},
   "outputs": [
    {
     "data": {
      "text/plain": [
       "(1, array([0., 1.]))"
      ]
     },
     "execution_count": 7,
     "metadata": {},
     "output_type": "execute_result"
    }
   ],
   "source": [
    "nBits = 1024\n",
    "if not os.path.exists(\"../data/rf.pkl\"):\n",
    "    syn_fps = [Chem.GetMorganFingerprintAsBitVect(spls[0],2,nBits=nBits) for spls in SmiMolSupplier(gzip.open(\"../data/structures_2.csv.gz\", mode=\"rt\"), header=True, smi_col=1)]\n",
    "    syn_classes = [1 for x in range(len(syn_fps))]\n",
    "    non_fps = [Chem.GetMorganFingerprintAsBitVect(spls[0],2,nBits=nBits) for spls in SmiMolSupplier(gzip.open(\"../data/structures_1.csv.gz\", mode=\"rt\"), header=True, smi_col=2)]\n",
    "    non_classes = [0 for x in range(len(non_fps))]\n",
    "    fps = syn_fps + non_fps\n",
    "    classes = syn_classes + non_classes\n",
    "\n",
    "    clf = RandomForestClassifier(n_estimators=100)\n",
    "    clf.fit(fps, classes)\n",
    "    joblib.dump(clf, \"../data/rf.pkl\")\n",
    "else:\n",
    "    clf = joblib.load(\"../data/rf.pkl\")\n",
    "    \n",
    "fp = Chem.GetMorganFingerprintAsBitVect(mol,2,nBits=nBits)\n",
    "clf.predict([fp])[0], clf.predict_proba([fp])[0]"
   ]
  },
  {
   "cell_type": "markdown",
   "metadata": {},
   "source": [
    "## Complexities"
   ]
  },
  {
   "cell_type": "code",
   "execution_count": 8,
   "metadata": {},
   "outputs": [
    {
     "data": {
      "text/plain": [
       "(343.2228677267164, 12, 255, 20.189999999999998)"
      ]
     },
     "execution_count": 8,
     "metadata": {},
     "output_type": "execute_result"
    }
   ],
   "source": [
    "cmplx.BertzCT(mol), cmplx.WhitlockCT(mol), cmplx.BaroneCT(mol), cmplx.SMCM(mol)"
   ]
  },
  {
   "cell_type": "markdown",
   "metadata": {},
   "source": [
    "## Prepare result files with calculated scores: SYBA, SAScore and SCScore\n",
    "### Test files"
   ]
  },
  {
   "cell_type": "code",
   "execution_count": 9,
   "metadata": {},
   "outputs": [
    {
     "name": "stdout",
     "output_type": "stream",
     "text": [
      "Unsupported atom #14\n",
      "Unsupported atom #14\n"
     ]
    }
   ],
   "source": [
    "inpath = \"../data/\"\n",
    "outpath = \"../out/\"\n",
    "files = [\"test_set_mc_es.csv\", \"test_set_mc_hs.csv\", \"test_set_cp_es.csv\", \"test_set_cp_hs.csv\"]\n",
    "for f in files:\n",
    "    with open(inpath+f) as inp, open(outpath+f, \"w\") as out:\n",
    "        header = inp.readline().strip()\n",
    "        out.write(header)\n",
    "        out.write(\",syba,sascore,scscore,rf_class,rf_prob,bertz,whitlock,barone,smcm\\n\")\n",
    "        for line in inp:\n",
    "            idx, smi, atoms = line.strip().split(\",\")\n",
    "            mol = Chem.MolFromSmiles(smi)\n",
    "            fp = Chem.GetMorganFingerprintAsBitVect(mol,2,nBits=nBits)\n",
    "            out.write(\"{},{},{},{},{},{},{},{},\".format(idx, smi, atoms, syba.predict(smi), sa.calculateScore(mol), scscore.get_score_from_smi(smi)[1], clf.predict([fp])[0], clf.predict_proba([fp])[0][1]))\n",
    "            out.write(\"{},{},{},{}\\n\".format(cmplx.BertzCT(mol), cmplx.WhitlockCT(mol), cmplx.BaroneCT(mol), cmplx.SMCM(mol)))"
   ]
  },
  {
   "cell_type": "markdown",
   "metadata": {},
   "source": [
    "### Training files\n",
    "Training compounds are in pairs: ZINC compound as ES and virtual compound generated with Nonpher as HS. This code runs for few hours"
   ]
  },
  {
   "cell_type": "code",
   "execution_count": 10,
   "metadata": {},
   "outputs": [],
   "source": [
    "inpath = \"../data/\"\n",
    "outpath = \"../out/\"\n",
    "#          INP_FILENAME,      SMI_COL,  OUT_FILENAME\n",
    "files = [(\"structures_1.csv.gz\", 2, \"train_set_hs.csv\"), (\"structures_2.csv.gz\", 1, \"train_set_es.csv\")]\n",
    "for f, col, out_filename in files:\n",
    "    with gzip.open(inpath+f, mode=\"rt\") as inp, open(outpath+out_filename, \"w\") as out:\n",
    "        header = inp.readline().strip()\n",
    "        out.write(\"idx,smiles,atoms,syba,sascore,scscore,rf_class,rf_prob,bertz,whitlock,barone,smcm\\n\")\n",
    "        for line in inp:\n",
    "            spls = line.strip().split(\",\")\n",
    "            idx, smi = spls[0], spls[col]\n",
    "            mol = Chem.MolFromSmiles(smi)\n",
    "            fp = Chem.GetMorganFingerprintAsBitVect(mol,2,nBits=nBits)\n",
    "            out.write(\"{},{},{},{},{},{},{},{},\".format(idx, smi, mol.GetNumHeavyAtoms(), syba.predict(smi), sa.calculateScore(mol), scscore.get_score_from_smi(smi)[1], clf.predict([fp])[0], clf.predict_proba([fp])[0][1]))\n",
    "            out.write(\"{},{},{},{}\\n\".format(cmplx.BertzCT(mol), cmplx.WhitlockCT(mol), cmplx.BaroneCT(mol), cmplx.SMCM(mol)))"
   ]
  },
  {
   "cell_type": "markdown",
   "metadata": {},
   "source": [
    "### Synthetic ways from SCScore [http://dx.doi.org/10.1021/acs.jcim.7b00622]"
   ]
  },
  {
   "cell_type": "code",
   "execution_count": 12,
   "metadata": {},
   "outputs": [
    {
     "name": "stdout",
     "output_type": "stream",
     "text": [
      "Unsupported atom #50\n",
      "Unsupported atom #11\n",
      "Unsupported atom #11\n",
      "Unsupported atom #11\n",
      "Unsupported atom #11\n"
     ]
    }
   ],
   "source": [
    "inpath = \"../data/\"\n",
    "outpath = \"../out/\"\n",
    "files = [\"smiles_fig7.csv\"]\n",
    "for f in files:\n",
    "    with open(inpath+f) as inp, open(outpath+f, \"w\") as out:\n",
    "        header = inp.readline().strip()\n",
    "        out.write(header)\n",
    "        out.write(\",atoms,syba,sascore,scscore,rf_class,rf_prob,bertz,whitlock,barone,smcm\\n\")\n",
    "        for line in inp:\n",
    "            name, idx, smi = line.strip().split(\",\")\n",
    "            mol = Chem.MolFromSmiles(smi)\n",
    "            fp = Chem.GetMorganFingerprintAsBitVect(mol,2,nBits=nBits)\n",
    "            out.write(\"{},{},{},{},{},{},{},{},{},\".format(name, idx, smi, mol.GetNumHeavyAtoms(), syba.predict(smi), sa.calculateScore(mol), scscore.get_score_from_smi(smi)[1], clf.predict([fp])[0], clf.predict_proba([fp])[0][1]))\n",
    "            out.write(\"{},{},{},{}\\n\".format(cmplx.BertzCT(mol), cmplx.WhitlockCT(mol), cmplx.BaroneCT(mol), cmplx.SMCM(mol)))"
   ]
  },
  {
   "cell_type": "code",
   "execution_count": null,
   "metadata": {},
   "outputs": [],
   "source": []
  }
 ],
 "metadata": {
  "kernelspec": {
   "display_name": "Python 3",
   "language": "python",
   "name": "python3"
  },
  "language_info": {
   "codemirror_mode": {
    "name": "ipython",
    "version": 3
   },
   "file_extension": ".py",
   "mimetype": "text/x-python",
   "name": "python",
   "nbconvert_exporter": "python",
   "pygments_lexer": "ipython3",
   "version": "3.6.5"
  }
 },
 "nbformat": 4,
 "nbformat_minor": 2
}